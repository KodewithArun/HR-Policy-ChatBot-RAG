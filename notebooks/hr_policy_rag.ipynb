{
 "cells": [
  {
   "cell_type": "markdown",
   "id": "9bc3bc36",
   "metadata": {},
   "source": [
    "# 1. Loading the Data from JSon File using JSONLOader"
   ]
  },
  {
   "cell_type": "code",
   "execution_count": 25,
   "id": "d04a6d2b",
   "metadata": {},
   "outputs": [
    {
     "data": {
      "text/plain": [
       "True"
      ]
     },
     "execution_count": 25,
     "metadata": {},
     "output_type": "execute_result"
    }
   ],
   "source": [
    "from dotenv import load_dotenv\n",
    "load_dotenv()"
   ]
  },
  {
   "cell_type": "code",
   "execution_count": 26,
   "id": "68e20e7d",
   "metadata": {},
   "outputs": [],
   "source": [
    "from  langchain_community.document_loaders import JSONLoader"
   ]
  },
  {
   "cell_type": "code",
   "execution_count": 27,
   "id": "886627bf",
   "metadata": {},
   "outputs": [
    {
     "name": "stdout",
     "output_type": "stream",
     "text": [
      "Documents loaded successfully.\n",
      "[Document(metadata={'source': 'D:\\\\ML(ExtraClass Project)\\\\RAG_PROJECT\\\\HR_Policy_ChatBot-RAG-\\\\data\\\\hr_policy.json', 'seq_num': 1}, page_content='{\"text\": \"Leave Policy: Employees are entitled to 20 paid leaves per year, excluding public holidays.\"}'), Document(metadata={'source': 'D:\\\\ML(ExtraClass Project)\\\\RAG_PROJECT\\\\HR_Policy_ChatBot-RAG-\\\\data\\\\hr_policy.json', 'seq_num': 2}, page_content='{\"text\": \"Remote Work Policy: Employees may work remotely up to 3 days a week upon manager approval.\"}'), Document(metadata={'source': 'D:\\\\ML(ExtraClass Project)\\\\RAG_PROJECT\\\\HR_Policy_ChatBot-RAG-\\\\data\\\\hr_policy.json', 'seq_num': 3}, page_content='{\"text\": \"Code of Conduct: All employees are expected to maintain professionalism and ethical behavior in the workplace.\"}'), Document(metadata={'source': 'D:\\\\ML(ExtraClass Project)\\\\RAG_PROJECT\\\\HR_Policy_ChatBot-RAG-\\\\data\\\\hr_policy.json', 'seq_num': 4}, page_content='{\"text\": \"Work Hours: Official work hours are from 9 AM to 6 PM, Monday to Friday. A 1-hour break is given for lunch.\"}'), Document(metadata={'source': 'D:\\\\ML(ExtraClass Project)\\\\RAG_PROJECT\\\\HR_Policy_ChatBot-RAG-\\\\data\\\\hr_policy.json', 'seq_num': 5}, page_content='{\"text\": \"Internet Usage Policy: Internet resources should be used for work-related tasks only. Unauthorized downloads are prohibited.\"}'), Document(metadata={'source': 'D:\\\\ML(ExtraClass Project)\\\\RAG_PROJECT\\\\HR_Policy_ChatBot-RAG-\\\\data\\\\hr_policy.json', 'seq_num': 6}, page_content='{\"text\": \"Dress Code: Employees are required to dress in business casual attire unless otherwise specified.\"}'), Document(metadata={'source': 'D:\\\\ML(ExtraClass Project)\\\\RAG_PROJECT\\\\HR_Policy_ChatBot-RAG-\\\\data\\\\hr_policy.json', 'seq_num': 7}, page_content='{\"text\": \"Performance Review: Performance reviews are conducted annually to assess employee progress and set goals.\"}'), Document(metadata={'source': 'D:\\\\ML(ExtraClass Project)\\\\RAG_PROJECT\\\\HR_Policy_ChatBot-RAG-\\\\data\\\\hr_policy.json', 'seq_num': 8}, page_content='{\"text\": \"Travel Policy: Business travel must be approved by the department head. Expenses will be reimbursed as per company guidelines.\"}'), Document(metadata={'source': 'D:\\\\ML(ExtraClass Project)\\\\RAG_PROJECT\\\\HR_Policy_ChatBot-RAG-\\\\data\\\\hr_policy.json', 'seq_num': 9}, page_content='{\"text\": \"Expense Reimbursement: Employees must submit valid receipts for all expenses within 30 days to be eligible for reimbursement.\"}'), Document(metadata={'source': 'D:\\\\ML(ExtraClass Project)\\\\RAG_PROJECT\\\\HR_Policy_ChatBot-RAG-\\\\data\\\\hr_policy.json', 'seq_num': 10}, page_content='{\"text\": \"Confidentiality Agreement: Employees must not disclose confidential company information to unauthorized persons.\"}'), Document(metadata={'source': 'D:\\\\ML(ExtraClass Project)\\\\RAG_PROJECT\\\\HR_Policy_ChatBot-RAG-\\\\data\\\\hr_policy.json', 'seq_num': 11}, page_content='{\"text\": \"Harassment Policy: The company maintains a zero-tolerance policy towards harassment of any kind.\"}'), Document(metadata={'source': 'D:\\\\ML(ExtraClass Project)\\\\RAG_PROJECT\\\\HR_Policy_ChatBot-RAG-\\\\data\\\\hr_policy.json', 'seq_num': 12}, page_content='{\"text\": \"Equal Opportunity Policy: The company is committed to providing equal employment opportunities regardless of race, gender, or religion.\"}'), Document(metadata={'source': 'D:\\\\ML(ExtraClass Project)\\\\RAG_PROJECT\\\\HR_Policy_ChatBot-RAG-\\\\data\\\\hr_policy.json', 'seq_num': 13}, page_content='{\"text\": \"Grievance Redressal: Employees can report grievances to HR. All complaints will be handled confidentially.\"}'), Document(metadata={'source': 'D:\\\\ML(ExtraClass Project)\\\\RAG_PROJECT\\\\HR_Policy_ChatBot-RAG-\\\\data\\\\hr_policy.json', 'seq_num': 14}, page_content='{\"text\": \"Probation Period: New employees are subject to a 3-month probation period before confirmation.\"}'), Document(metadata={'source': 'D:\\\\ML(ExtraClass Project)\\\\RAG_PROJECT\\\\HR_Policy_ChatBot-RAG-\\\\data\\\\hr_policy.json', 'seq_num': 15}, page_content='{\"text\": \"Resignation Policy: Employees must provide at least 30 days\\' notice before resignation.\"}'), Document(metadata={'source': 'D:\\\\ML(ExtraClass Project)\\\\RAG_PROJECT\\\\HR_Policy_ChatBot-RAG-\\\\data\\\\hr_policy.json', 'seq_num': 16}, page_content='{\"text\": \"Promotion Policy: Promotions are based on performance, experience, and organizational requirements.\"}'), Document(metadata={'source': 'D:\\\\ML(ExtraClass Project)\\\\RAG_PROJECT\\\\HR_Policy_ChatBot-RAG-\\\\data\\\\hr_policy.json', 'seq_num': 17}, page_content='{\"text\": \"Training and Development: The company encourages employees to participate in training programs for skill enhancement.\"}'), Document(metadata={'source': 'D:\\\\ML(ExtraClass Project)\\\\RAG_PROJECT\\\\HR_Policy_ChatBot-RAG-\\\\data\\\\hr_policy.json', 'seq_num': 18}, page_content='{\"text\": \"Attendance Policy: Employees must mark their attendance daily. Repeated absenteeism may lead to disciplinary action.\"}'), Document(metadata={'source': 'D:\\\\ML(ExtraClass Project)\\\\RAG_PROJECT\\\\HR_Policy_ChatBot-RAG-\\\\data\\\\hr_policy.json', 'seq_num': 19}, page_content='{\"text\": \"IT Security Policy: Employees must use strong passwords and report any security breaches immediately.\"}'), Document(metadata={'source': 'D:\\\\ML(ExtraClass Project)\\\\RAG_PROJECT\\\\HR_Policy_ChatBot-RAG-\\\\data\\\\hr_policy.json', 'seq_num': 20}, page_content='{\"text\": \"Health and Safety Policy: The company is committed to maintaining a safe and healthy work environment for all employees.\"}')]\n"
     ]
    }
   ],
   "source": [
    "loader = JSONLoader(\n",
    "    file_path=\"D:/ML(ExtraClass Project)/RAG_PROJECT/HR_Policy_ChatBot-RAG-/data/hr_policy.json\",\n",
    "    jq_schema=\".[] | {text: (.title + \\\": \\\" + .description)}\",\n",
    "    text_content=False\n",
    ")\n",
    "\n",
    "docs = loader.load()\n",
    "print(\"Documents loaded successfully.\")\n",
    "print(docs)  # This will print the loaded documents to verify the output\n",
    "    "
   ]
  },
  {
   "cell_type": "code",
   "execution_count": 28,
   "id": "dd25cc96",
   "metadata": {},
   "outputs": [
    {
     "name": "stdout",
     "output_type": "stream",
     "text": [
      "Number of documents loaded: 20\n"
     ]
    }
   ],
   "source": [
    "# Lets see the length of the documents\n",
    "print(f\"Number of documents loaded: {len(docs)}\")"
   ]
  },
  {
   "cell_type": "code",
   "execution_count": null,
   "id": "ffdfe0b8",
   "metadata": {},
   "outputs": [],
   "source": []
  },
  {
   "cell_type": "code",
   "execution_count": 29,
   "id": "44c6f0ae",
   "metadata": {},
   "outputs": [
    {
     "name": "stdout",
     "output_type": "stream",
     "text": [
      "Number of chunks after splitting: 20\n"
     ]
    }
   ],
   "source": [
    "from langchain.text_splitter import RecursiveCharacterTextSplitter\n",
    "\n",
    "text_splitter = RecursiveCharacterTextSplitter(\n",
    "    chunk_size=1000,  # Adjust chunk size as needed\n",
    "    chunk_overlap=200,  # Adjust overlap as needed\\\n",
    ")\n",
    "\n",
    "docs = text_splitter.split_documents(docs)\n",
    "print(f\"Number of chunks after splitting: {len(docs)}\")"
   ]
  },
  {
   "cell_type": "code",
   "execution_count": 30,
   "id": "93969cc1",
   "metadata": {},
   "outputs": [
    {
     "name": "stdout",
     "output_type": "stream",
     "text": [
      "Chunk 1: {\"text\": \"Leave Policy: Employees are entitled to 20 paid leaves per year, excluding public holidays.\"}...\n",
      "Metadata: {'source': 'D:\\\\ML(ExtraClass Project)\\\\RAG_PROJECT\\\\HR_Policy_ChatBot-RAG-\\\\data\\\\hr_policy.json', 'seq_num': 1}\n",
      "\n",
      "Chunk 2: {\"text\": \"Remote Work Policy: Employees may work remotely up to 3 days a week upon manager approval.\"}...\n",
      "Metadata: {'source': 'D:\\\\ML(ExtraClass Project)\\\\RAG_PROJECT\\\\HR_Policy_ChatBot-RAG-\\\\data\\\\hr_policy.json', 'seq_num': 2}\n",
      "\n",
      "Chunk 3: {\"text\": \"Code of Conduct: All employees are expected to maintain professionalism and ethical behavior in the workplace.\"}...\n",
      "Metadata: {'source': 'D:\\\\ML(ExtraClass Project)\\\\RAG_PROJECT\\\\HR_Policy_ChatBot-RAG-\\\\data\\\\hr_policy.json', 'seq_num': 3}\n",
      "\n",
      "Chunk 4: {\"text\": \"Work Hours: Official work hours are from 9 AM to 6 PM, Monday to Friday. A 1-hour break is given for lunch.\"}...\n",
      "Metadata: {'source': 'D:\\\\ML(ExtraClass Project)\\\\RAG_PROJECT\\\\HR_Policy_ChatBot-RAG-\\\\data\\\\hr_policy.json', 'seq_num': 4}\n",
      "\n",
      "Chunk 5: {\"text\": \"Internet Usage Policy: Internet resources should be used for work-related tasks only. Unauthorized downloads are prohibited.\"}...\n",
      "Metadata: {'source': 'D:\\\\ML(ExtraClass Project)\\\\RAG_PROJECT\\\\HR_Policy_ChatBot-RAG-\\\\data\\\\hr_policy.json', 'seq_num': 5}\n",
      "\n",
      "Chunk 6: {\"text\": \"Dress Code: Employees are required to dress in business casual attire unless otherwise specified.\"}...\n",
      "Metadata: {'source': 'D:\\\\ML(ExtraClass Project)\\\\RAG_PROJECT\\\\HR_Policy_ChatBot-RAG-\\\\data\\\\hr_policy.json', 'seq_num': 6}\n",
      "\n",
      "Chunk 7: {\"text\": \"Performance Review: Performance reviews are conducted annually to assess employee progress and set goals.\"}...\n",
      "Metadata: {'source': 'D:\\\\ML(ExtraClass Project)\\\\RAG_PROJECT\\\\HR_Policy_ChatBot-RAG-\\\\data\\\\hr_policy.json', 'seq_num': 7}\n",
      "\n",
      "Chunk 8: {\"text\": \"Travel Policy: Business travel must be approved by the department head. Expenses will be reimbursed as per company guidelines.\"}...\n",
      "Metadata: {'source': 'D:\\\\ML(ExtraClass Project)\\\\RAG_PROJECT\\\\HR_Policy_ChatBot-RAG-\\\\data\\\\hr_policy.json', 'seq_num': 8}\n",
      "\n",
      "Chunk 9: {\"text\": \"Expense Reimbursement: Employees must submit valid receipts for all expenses within 30 days to be eligible for reimbursement.\"}...\n",
      "Metadata: {'source': 'D:\\\\ML(ExtraClass Project)\\\\RAG_PROJECT\\\\HR_Policy_ChatBot-RAG-\\\\data\\\\hr_policy.json', 'seq_num': 9}\n",
      "\n",
      "Chunk 10: {\"text\": \"Confidentiality Agreement: Employees must not disclose confidential company information to unauthorized persons.\"}...\n",
      "Metadata: {'source': 'D:\\\\ML(ExtraClass Project)\\\\RAG_PROJECT\\\\HR_Policy_ChatBot-RAG-\\\\data\\\\hr_policy.json', 'seq_num': 10}\n",
      "\n",
      "Chunk 11: {\"text\": \"Harassment Policy: The company maintains a zero-tolerance policy towards harassment of any kind.\"}...\n",
      "Metadata: {'source': 'D:\\\\ML(ExtraClass Project)\\\\RAG_PROJECT\\\\HR_Policy_ChatBot-RAG-\\\\data\\\\hr_policy.json', 'seq_num': 11}\n",
      "\n",
      "Chunk 12: {\"text\": \"Equal Opportunity Policy: The company is committed to providing equal employment opportunities regardless of race, gender, or religion.\"}...\n",
      "Metadata: {'source': 'D:\\\\ML(ExtraClass Project)\\\\RAG_PROJECT\\\\HR_Policy_ChatBot-RAG-\\\\data\\\\hr_policy.json', 'seq_num': 12}\n",
      "\n",
      "Chunk 13: {\"text\": \"Grievance Redressal: Employees can report grievances to HR. All complaints will be handled confidentially.\"}...\n",
      "Metadata: {'source': 'D:\\\\ML(ExtraClass Project)\\\\RAG_PROJECT\\\\HR_Policy_ChatBot-RAG-\\\\data\\\\hr_policy.json', 'seq_num': 13}\n",
      "\n",
      "Chunk 14: {\"text\": \"Probation Period: New employees are subject to a 3-month probation period before confirmation.\"}...\n",
      "Metadata: {'source': 'D:\\\\ML(ExtraClass Project)\\\\RAG_PROJECT\\\\HR_Policy_ChatBot-RAG-\\\\data\\\\hr_policy.json', 'seq_num': 14}\n",
      "\n",
      "Chunk 15: {\"text\": \"Resignation Policy: Employees must provide at least 30 days' notice before resignation.\"}...\n",
      "Metadata: {'source': 'D:\\\\ML(ExtraClass Project)\\\\RAG_PROJECT\\\\HR_Policy_ChatBot-RAG-\\\\data\\\\hr_policy.json', 'seq_num': 15}\n",
      "\n",
      "Chunk 16: {\"text\": \"Promotion Policy: Promotions are based on performance, experience, and organizational requirements.\"}...\n",
      "Metadata: {'source': 'D:\\\\ML(ExtraClass Project)\\\\RAG_PROJECT\\\\HR_Policy_ChatBot-RAG-\\\\data\\\\hr_policy.json', 'seq_num': 16}\n",
      "\n",
      "Chunk 17: {\"text\": \"Training and Development: The company encourages employees to participate in training programs for skill enhancement.\"}...\n",
      "Metadata: {'source': 'D:\\\\ML(ExtraClass Project)\\\\RAG_PROJECT\\\\HR_Policy_ChatBot-RAG-\\\\data\\\\hr_policy.json', 'seq_num': 17}\n",
      "\n",
      "Chunk 18: {\"text\": \"Attendance Policy: Employees must mark their attendance daily. Repeated absenteeism may lead to disciplinary action.\"}...\n",
      "Metadata: {'source': 'D:\\\\ML(ExtraClass Project)\\\\RAG_PROJECT\\\\HR_Policy_ChatBot-RAG-\\\\data\\\\hr_policy.json', 'seq_num': 18}\n",
      "\n",
      "Chunk 19: {\"text\": \"IT Security Policy: Employees must use strong passwords and report any security breaches immediately.\"}...\n",
      "Metadata: {'source': 'D:\\\\ML(ExtraClass Project)\\\\RAG_PROJECT\\\\HR_Policy_ChatBot-RAG-\\\\data\\\\hr_policy.json', 'seq_num': 19}\n",
      "\n",
      "Chunk 20: {\"text\": \"Health and Safety Policy: The company is committed to maintaining a safe and healthy work environment for all employees.\"}...\n",
      "Metadata: {'source': 'D:\\\\ML(ExtraClass Project)\\\\RAG_PROJECT\\\\HR_Policy_ChatBot-RAG-\\\\data\\\\hr_policy.json', 'seq_num': 20}\n",
      "\n"
     ]
    }
   ],
   "source": [
    "for i ,doc in enumerate(docs):\n",
    "    print(f\"Chunk {i+1}: {doc.page_content[:200]}...\")  # Print first 200 characters of each chunk\n",
    "    print(f\"Metadata: {doc.metadata}\\n\")  # Print metadata for each chunk"
   ]
  },
  {
   "cell_type": "markdown",
   "id": "c1a57156",
   "metadata": {},
   "source": [
    "# 2 Creating Embedding Using HuggingFaceEmbeddings"
   ]
  },
  {
   "cell_type": "code",
   "execution_count": 31,
   "id": "51762d11",
   "metadata": {},
   "outputs": [],
   "source": [
    "from langchain_huggingface import HuggingFaceEmbeddings\n"
   ]
  },
  {
   "cell_type": "code",
   "execution_count": 32,
   "id": "42ada8e2",
   "metadata": {},
   "outputs": [],
   "source": [
    "embedding = HuggingFaceEmbeddings(model_name=\"sentence-transformers/all-MiniLM-L6-v2\")"
   ]
  },
  {
   "cell_type": "code",
   "execution_count": null,
   "id": "40721232",
   "metadata": {},
   "outputs": [],
   "source": []
  },
  {
   "cell_type": "code",
   "execution_count": 33,
   "id": "49f8496d",
   "metadata": {},
   "outputs": [],
   "source": [
    "# lets create a LLM using ChatGroq\n",
    "\n",
    "from langchain_groq import ChatGroq"
   ]
  },
  {
   "cell_type": "code",
   "execution_count": 34,
   "id": "be6f2892",
   "metadata": {},
   "outputs": [],
   "source": [
    "llm = ChatGroq(model=\"llama-3.1-8b-instant\",temperature=0.1)"
   ]
  },
  {
   "cell_type": "code",
   "execution_count": null,
   "id": "5a3cfc33",
   "metadata": {},
   "outputs": [],
   "source": []
  },
  {
   "cell_type": "code",
   "execution_count": 35,
   "id": "e9fcfd26",
   "metadata": {},
   "outputs": [],
   "source": [
    "# creating a vector store using Chromadb\n",
    "from langchain.vectorstores import Chroma"
   ]
  },
  {
   "cell_type": "code",
   "execution_count": 36,
   "id": "d0b6cd95",
   "metadata": {},
   "outputs": [
    {
     "name": "stdout",
     "output_type": "stream",
     "text": [
      "Vector store created successfully.\n"
     ]
    }
   ],
   "source": [
    "vectorstore = Chroma.from_documents(\n",
    "    embedding=embedding,\n",
    "    documents=docs,\n",
    "    persist_directory=\"../vector_store\",\n",
    "    collection_name=\"hr_policy_collection\")\n",
    "\n",
    "print(\"Vector store created successfully.\")"
   ]
  },
  {
   "cell_type": "code",
   "execution_count": null,
   "id": "6c473937",
   "metadata": {},
   "outputs": [],
   "source": []
  },
  {
   "cell_type": "code",
   "execution_count": 37,
   "id": "01a8a577",
   "metadata": {},
   "outputs": [],
   "source": [
    "# Retrieving documents from the vector store\n",
    "\n",
    "reteriver = vectorstore.as_retriever(\n",
    "    search_type=\"mmr\",\n",
    "    search_kwargs={\n",
    "        \"k\": 5,\n",
    "        'lambda_mult': 0.5,  # Adjust this parameter to control diversity\n",
    "    }\n",
    ")"
   ]
  },
  {
   "cell_type": "code",
   "execution_count": 38,
   "id": "c5b019b2",
   "metadata": {},
   "outputs": [],
   "source": [
    "query = \"What is the company's policy on remote work?\"\n",
    "result = reteriver.invoke(query)"
   ]
  },
  {
   "cell_type": "code",
   "execution_count": 39,
   "id": "41c219a2",
   "metadata": {},
   "outputs": [
    {
     "data": {
      "text/plain": [
       "[Document(metadata={'source': 'D:\\\\ML(ExtraClass Project)\\\\RAG_PROJECT\\\\HR_Policy_ChatBot-RAG-\\\\data\\\\hr_policy.json', 'seq_num': 2}, page_content='{\"text\": \"Remote Work Policy: Employees may work remotely up to 3 days a week upon manager approval.\"}'),\n",
       " Document(metadata={'source': 'D:\\\\ML(ExtraClass Project)\\\\RAG_PROJECT\\\\HR_Policy_ChatBot-RAG-\\\\data\\\\hr_policy.json', 'seq_num': 2}, page_content='{\"text\": \"Remote Work Policy: Employees may work remotely up to 3 days a week upon manager approval.\"}'),\n",
       " Document(metadata={'seq_num': 2, 'source': 'D:\\\\ML(ExtraClass Project)\\\\RAG_PROJECT\\\\HR_Policy_ChatBot-RAG-\\\\data\\\\hr_policy.json'}, page_content='{\"text\": \"Remote Work Policy: Employees may work remotely up to 3 days a week upon manager approval.\"}'),\n",
       " Document(metadata={'source': 'D:\\\\ML(ExtraClass Project)\\\\RAG_PROJECT\\\\HR_Policy_ChatBot-RAG-\\\\data\\\\hr_policy.json', 'seq_num': 2}, page_content='{\"text\": \"Remote Work Policy: Employees may work remotely up to 3 days a week upon manager approval.\"}'),\n",
       " Document(metadata={'source': 'D:\\\\ML(ExtraClass Project)\\\\RAG_PROJECT\\\\HR_Policy_ChatBot-RAG-\\\\data\\\\hr_policy.json', 'seq_num': 2}, page_content='{\"text\": \"Remote Work Policy: Employees may work remotely up to 3 days a week upon manager approval.\"}')]"
      ]
     },
     "execution_count": 39,
     "metadata": {},
     "output_type": "execute_result"
    }
   ],
   "source": [
    "result"
   ]
  },
  {
   "cell_type": "code",
   "execution_count": null,
   "id": "ee51bd88",
   "metadata": {},
   "outputs": [],
   "source": []
  },
  {
   "cell_type": "code",
   "execution_count": 40,
   "id": "22604d61",
   "metadata": {},
   "outputs": [],
   "source": [
    "from langchain_core.prompts import PromptTemplate\n"
   ]
  },
  {
   "cell_type": "code",
   "execution_count": 41,
   "id": "3a6c069a",
   "metadata": {},
   "outputs": [],
   "source": [
    "prompt_template = PromptTemplate(\n",
    "    input_variables=[\"context\", \"question\"],\n",
    "    template=\"\"\"\n",
    "You are an HR policy assistant. If the user's question is a casual greeting (such as \"hi\", \"hello\", \"hey\", \"good morning\", \"good afternoon\", \"good evening\"), respond with a friendly greeting and ask how you can help with HR policies.\n",
    "Otherwise, use the context below to answer the user's question. If the answer is not found in the context, reply with: \"Sorry, I couldn't find that in the HR policy. Please contact HR for further assistance.\"\n",
    "\n",
    "Context:\n",
    "{context}\n",
    "\n",
    "Question: {question}\n",
    "\n",
    "Answer:\n",
    "\"\"\"\n",
    ")"
   ]
  },
  {
   "cell_type": "code",
   "execution_count": 42,
   "id": "75a40173",
   "metadata": {},
   "outputs": [],
   "source": [
    "from langchain_core.output_parsers import StrOutputParser"
   ]
  },
  {
   "cell_type": "code",
   "execution_count": 43,
   "id": "ea126c7c",
   "metadata": {},
   "outputs": [],
   "source": [
    "parser = StrOutputParser()"
   ]
  },
  {
   "cell_type": "code",
   "execution_count": 44,
   "id": "d5747a9e",
   "metadata": {},
   "outputs": [],
   "source": [
    "# Now lets make a chain to answer the question using the LLM and the retriever using RunnableSequence\n",
    "from langchain.schema.runnable import RunnableSequence\n"
   ]
  },
  {
   "cell_type": "code",
   "execution_count": 45,
   "id": "dc24029d",
   "metadata": {},
   "outputs": [],
   "source": [
    "# : Build the chain using RunnableSequence\n",
    "\n",
    "\n",
    "def format_docs(docs):\n",
    "    return \"\\n\\n\".join(doc.page_content for doc in docs)\n",
    "\n",
    "chain = RunnableSequence(\n",
    "    {\n",
    "        \"context\": reteriver | format_docs,\n",
    "        \"question\": lambda x: x\n",
    "    },\n",
    "    prompt_template,\n",
    "    llm,\n",
    "    parser\n",
    ")\n",
    "\n"
   ]
  },
  {
   "cell_type": "code",
   "execution_count": 46,
   "id": "7473d2d3",
   "metadata": {},
   "outputs": [],
   "source": [
    "query = \"What is the company's policy on remote work?\"\n",
    "response = chain.invoke(query)"
   ]
  },
  {
   "cell_type": "code",
   "execution_count": 47,
   "id": "bc783574",
   "metadata": {},
   "outputs": [
    {
     "name": "stdout",
     "output_type": "stream",
     "text": [
      "Response from the chain:\n",
      "Good morning! How can I help with HR policies today?\n"
     ]
    }
   ],
   "source": [
    "print(\"Response from the chain:\")\n",
    "print(response)"
   ]
  },
  {
   "cell_type": "code",
   "execution_count": 48,
   "id": "678956c3",
   "metadata": {},
   "outputs": [
    {
     "name": "stdout",
     "output_type": "stream",
     "text": [
      "Testing whether it greets casual greetings correctly\n",
      "Hello there! It's nice to meet you. How can I assist you with our HR policies today?\n"
     ]
    }
   ],
   "source": [
    "print(\"Testing whether it greets casual greetings correctly\")\n",
    "response = chain.invoke(\"Hello there!\")\n",
    "print(response)"
   ]
  },
  {
   "cell_type": "code",
   "execution_count": null,
   "id": "e1e46e51",
   "metadata": {},
   "outputs": [],
   "source": []
  }
 ],
 "metadata": {
  "kernelspec": {
   "display_name": ".hrpolicychatbotenv",
   "language": "python",
   "name": "python3"
  },
  "language_info": {
   "codemirror_mode": {
    "name": "ipython",
    "version": 3
   },
   "file_extension": ".py",
   "mimetype": "text/x-python",
   "name": "python",
   "nbconvert_exporter": "python",
   "pygments_lexer": "ipython3",
   "version": "3.12.7"
  }
 },
 "nbformat": 4,
 "nbformat_minor": 5
}
